{
 "cells": [
  {
   "cell_type": "markdown",
   "id": "61a4f2f0-6bf2-4ef2-819e-aa8ebcd78b78",
   "metadata": {},
   "source": [
    "Q1. Which keyword is used to create a function? Create a function to return a list of odd numbers in the\n",
    "range of 1 to 25."
   ]
  },
  {
   "cell_type": "markdown",
   "id": "7606bde0-e283-4646-9e06-2d3da679f544",
   "metadata": {},
   "source": [
    "Solution:-\n",
    "def keyword is used to create a function"
   ]
  },
  {
   "cell_type": "code",
   "execution_count": 2,
   "id": "57b3eeb9-12e7-4205-9c36-753848566967",
   "metadata": {},
   "outputs": [],
   "source": [
    "# example\n",
    "\n",
    "def test():\n",
    "    l=[]\n",
    "    for i in range(1,26):\n",
    "        if i%2!=0:\n",
    "            l.append(i)\n",
    "    return l"
   ]
  },
  {
   "cell_type": "code",
   "execution_count": 3,
   "id": "2b6e701f-d805-42a1-b8d6-e7c8282e7f86",
   "metadata": {},
   "outputs": [
    {
     "data": {
      "text/plain": [
       "[1, 3, 5, 7, 9, 11, 13, 15, 17, 19, 21, 23, 25]"
      ]
     },
     "execution_count": 3,
     "metadata": {},
     "output_type": "execute_result"
    }
   ],
   "source": [
    "test()"
   ]
  },
  {
   "cell_type": "markdown",
   "id": "e6ee1b74-aebe-4b89-8f5e-fceaf530e193",
   "metadata": {},
   "source": [
    "Q2. Why *args and **kwargs is used in some functions? Create a function each for *args and **kwargs\n",
    "to demonstrate their use."
   ]
  },
  {
   "cell_type": "markdown",
   "id": "214f0cac-f054-460f-880f-e40451bd1c9c",
   "metadata": {},
   "source": [
    "Ans:-"
   ]
  },
  {
   "cell_type": "markdown",
   "id": "a282771f-7552-4b63-a1d7-3cef410209c3",
   "metadata": {},
   "source": [
    "*args is used to take n number of individual arguments. It consider a tuple. \n",
    "**kwargs is used to take arguments in key value pair. It consider a dict"
   ]
  },
  {
   "cell_type": "code",
   "execution_count": 8,
   "id": "c4c5f723-f23b-4442-8831-ad1e9cbeee59",
   "metadata": {},
   "outputs": [],
   "source": [
    "# example\n",
    "\n",
    "def test1(*a):\n",
    "    l=[]\n",
    "    for i in a:\n",
    "        l.append(i**2)\n",
    "    return l\n",
    "\n",
    "def test2(**kwargs):\n",
    "    print(kwargs)"
   ]
  },
  {
   "cell_type": "code",
   "execution_count": 6,
   "id": "9f4aa090-8e4e-4a0f-ade5-0cc07bcfa21b",
   "metadata": {},
   "outputs": [
    {
     "data": {
      "text/plain": [
       "[1, 4, 9, 16, 25]"
      ]
     },
     "execution_count": 6,
     "metadata": {},
     "output_type": "execute_result"
    }
   ],
   "source": [
    "test1(1,2,3,4,5)"
   ]
  },
  {
   "cell_type": "code",
   "execution_count": 9,
   "id": "ba88df99-efdd-426b-b60a-c2ff72f2605b",
   "metadata": {},
   "outputs": [
    {
     "name": "stdout",
     "output_type": "stream",
     "text": [
      "{'a': 20, 'b': 10, 'c': 40}\n"
     ]
    }
   ],
   "source": [
    "test2(a=20,b=10,c=40)"
   ]
  },
  {
   "cell_type": "code",
   "execution_count": null,
   "id": "48dc3558-e713-4a9d-bd04-fd6da0d8a93f",
   "metadata": {},
   "outputs": [],
   "source": []
  },
  {
   "cell_type": "markdown",
   "id": "d58fb537-b516-4b5c-b7d4-0dec844ac7e7",
   "metadata": {},
   "source": [
    "Q3. What is an iterator in python? Name the method used to initialise the iterator object and the method\n",
    "used for iteration. Use these methods to print the first five elements of the given list [2, 4, 6, 8, 10, 12, 14,\n",
    "16, 18, 20]."
   ]
  },
  {
   "cell_type": "raw",
   "id": "3092e47c-12d1-4a99-ac04-b5ad0c86f9a6",
   "metadata": {},
   "source": [
    "Iterators are the objects which produces or iterates data values by using next() method from sequence.\n",
    "iter() method used to initialise the iterator object and next() method used for iteration"
   ]
  },
  {
   "cell_type": "code",
   "execution_count": 4,
   "id": "6d11d026-4189-47c2-87ae-799375ba29cb",
   "metadata": {},
   "outputs": [
    {
     "name": "stdout",
     "output_type": "stream",
     "text": [
      "2 4 6 8 10 "
     ]
    }
   ],
   "source": [
    "l=[2,4,6,8,10,12,14,16,18,20]\n",
    "\n",
    "s=iter(l)\n",
    "\n",
    "print(next(s), end=' ')\n",
    "print(next(s), end=' ')\n",
    "print(next(s), end=' ')\n",
    "print(next(s), end=' ')\n",
    "print(next(s), end=' ')"
   ]
  },
  {
   "cell_type": "markdown",
   "id": "845c3bf4-007e-44f3-a768-c53084a35538",
   "metadata": {},
   "source": [
    "Q4. What is a generator function in python? Why yield keyword is used? Give an example of a generator\n",
    "function."
   ]
  },
  {
   "cell_type": "markdown",
   "id": "a5b95e74-2f65-4557-99e7-ad28afb1e136",
   "metadata": {},
   "source": [
    "Generator function is a type of function which generates the sequence of values by using yield keyword.\n",
    "Yield keyword is used to return the expression."
   ]
  },
  {
   "cell_type": "code",
   "execution_count": 9,
   "id": "146ccd58-5d70-40aa-a365-34cb33442f6f",
   "metadata": {},
   "outputs": [
    {
     "name": "stdout",
     "output_type": "stream",
     "text": [
      "0\n",
      "1\n",
      "2\n",
      "3\n"
     ]
    }
   ],
   "source": [
    "# example\n",
    "\n",
    "def test(a):\n",
    "    n=0\n",
    "    while n<=a:\n",
    "        yield n\n",
    "        n+=1\n",
    "\n",
    "g=test(3)\n",
    "\n",
    "print(next(g))\n",
    "print(next(g))\n",
    "print(next(g))\n",
    "print(next(g))"
   ]
  },
  {
   "cell_type": "markdown",
   "id": "0e7aaed3-8a4c-4a65-8b6b-3e500e6a5e63",
   "metadata": {},
   "source": [
    "Q5. Create a generator function for prime numbers less than 1000. Use the next() method to print the\n",
    "first 20 prime numbers."
   ]
  },
  {
   "cell_type": "code",
   "execution_count": 29,
   "id": "8cb714ce-00c2-45e8-9400-93ee83a149ae",
   "metadata": {},
   "outputs": [
    {
     "name": "stdout",
     "output_type": "stream",
     "text": [
      "First 20 prime numbers: \n",
      "\n",
      "1 2 3 5 7 11 13 17 19 23 29 31 37 41 43 47 53 59 61 67 "
     ]
    }
   ],
   "source": [
    "def prime(a):\n",
    "    for i in range(1,a+1):\n",
    "        c=1\n",
    "        for j in range(1,i):\n",
    "            if i%j==0 and j!=1:\n",
    "                c=0\n",
    "                break\n",
    "        if c==1:\n",
    "            yield i\n",
    "j=0\n",
    "print(\"First 20 prime numbers: \\n\")\n",
    "for i in prime(1000):\n",
    "    j+=1\n",
    "    if j<=20:\n",
    "        print(i, end=\" \")"
   ]
  },
  {
   "cell_type": "raw",
   "id": "4efe962f-803f-4bc9-9551-b17ff3a469e0",
   "metadata": {},
   "source": [
    "Q6. Write a python program to print the first 10 Fibonacci numbers using a while loop."
   ]
  },
  {
   "cell_type": "code",
   "execution_count": 12,
   "id": "613fa39d-44c1-492f-a1e6-59b497f7d7be",
   "metadata": {},
   "outputs": [
    {
     "name": "stdout",
     "output_type": "stream",
     "text": [
      "0 1 1 2 3 5 8 13 21 34 "
     ]
    }
   ],
   "source": [
    "a=0\n",
    "b=1\n",
    "counter=10\n",
    "while counter>0:\n",
    "    print(a, end=' ')\n",
    "    c=a+b\n",
    "    a=b\n",
    "    b=c\n",
    "    counter-=1"
   ]
  },
  {
   "cell_type": "markdown",
   "id": "6517ba90-7f12-4e5c-8fd5-5599fb129472",
   "metadata": {},
   "source": [
    "Q7. Write a List Comprehension to iterate through the given string: ‘pwskills’.\n",
    "Expected output: ['p', 'w', 's', 'k', 'i', 'l', 'l', 's']"
   ]
  },
  {
   "cell_type": "code",
   "execution_count": 15,
   "id": "e744ab25-34c2-480b-84fc-2e158d90965f",
   "metadata": {},
   "outputs": [
    {
     "data": {
      "text/plain": [
       "['p', 'w', 's', 'k', 'i', 'l', 'l', 's']"
      ]
     },
     "execution_count": 15,
     "metadata": {},
     "output_type": "execute_result"
    }
   ],
   "source": [
    "# list comprehension\n",
    "\n",
    "s='pwskills'\n",
    "[ i for i in s]"
   ]
  },
  {
   "cell_type": "markdown",
   "id": "748cd294-7c9e-404f-b255-d184483bee4c",
   "metadata": {},
   "source": [
    "Q8. Write a python program to check whether a given number is Palindrome or not using a while loop."
   ]
  },
  {
   "cell_type": "code",
   "execution_count": 32,
   "id": "07f4c1a6-7ecc-427c-932b-8c47da36dc4c",
   "metadata": {},
   "outputs": [
    {
     "name": "stdout",
     "output_type": "stream",
     "text": [
      "202\n",
      "Number is palindrome\n"
     ]
    }
   ],
   "source": [
    "# check palindrome\n",
    "c=202\n",
    "a=c\n",
    "rev=0\n",
    "while a>0:\n",
    "    r=a%10\n",
    "    a=a//10\n",
    "    rev=rev*10+r\n",
    "print(rev)\n",
    "    \n",
    "if c==rev:\n",
    "    print(\"Number is palindrome\")\n",
    "else:\n",
    "    print(\"It's not palindrome\")"
   ]
  },
  {
   "cell_type": "code",
   "execution_count": null,
   "id": "5a994854-c99d-46b4-a9fe-7177f422ecb1",
   "metadata": {},
   "outputs": [],
   "source": []
  },
  {
   "cell_type": "markdown",
   "id": "309d9dc1-31c6-4cee-a613-597bebcc53e8",
   "metadata": {},
   "source": [
    "Q9. Write a code to print odd numbers from 1 to 100 using list comprehension.\n",
    "Note: Use a list comprehension to create a list from 1 to 100 and use another List comprehension to filter\n",
    "out odd numbers."
   ]
  },
  {
   "cell_type": "code",
   "execution_count": 41,
   "id": "e6ce5d83-ac38-4f06-a69f-8c7526353d27",
   "metadata": {},
   "outputs": [
    {
     "name": "stdout",
     "output_type": "stream",
     "text": [
      "[1, 2, 3, 4, 5, 6, 7, 8, 9, 10, 11, 12, 13, 14, 15, 16, 17, 18, 19, 20, 21, 22, 23, 24, 25, 26, 27, 28, 29, 30, 31, 32, 33, 34, 35, 36, 37, 38, 39, 40, 41, 42, 43, 44, 45, 46, 47, 48, 49, 50, 51, 52, 53, 54, 55, 56, 57, 58, 59, 60, 61, 62, 63, 64, 65, 66, 67, 68, 69, 70, 71, 72, 73, 74, 75, 76, 77, 78, 79, 80, 81, 82, 83, 84, 85, 86, 87, 88, 89, 90, 91, 92, 93, 94, 95, 96, 97, 98, 99, 100]\n",
      "Odd Numbers:\n",
      " [1, 3, 5, 7, 9, 11, 13, 15, 17, 19, 21, 23, 25, 27, 29, 31, 33, 35, 37, 39, 41, 43, 45, 47, 49, 51, 53, 55, 57, 59, 61, 63, 65, 67, 69, 71, 73, 75, 77, 79, 81, 83, 85, 87, 89, 91, 93, 95, 97, 99]\n"
     ]
    }
   ],
   "source": [
    "# list comprehension\n",
    "a=[i for i in range(1,101)]   #range creation\n",
    "\n",
    "b=[i for i in a if i%2!=0]\n",
    "print(a)\n",
    "print('Odd Numbers:\\n',b)"
   ]
  },
  {
   "cell_type": "code",
   "execution_count": null,
   "id": "9607bdc7-07cd-4af3-9fdd-5cb47d29d92b",
   "metadata": {},
   "outputs": [],
   "source": []
  }
 ],
 "metadata": {
  "kernelspec": {
   "display_name": "Python 3 (ipykernel)",
   "language": "python",
   "name": "python3"
  },
  "language_info": {
   "codemirror_mode": {
    "name": "ipython",
    "version": 3
   },
   "file_extension": ".py",
   "mimetype": "text/x-python",
   "name": "python",
   "nbconvert_exporter": "python",
   "pygments_lexer": "ipython3",
   "version": "3.10.6"
  }
 },
 "nbformat": 4,
 "nbformat_minor": 5
}
