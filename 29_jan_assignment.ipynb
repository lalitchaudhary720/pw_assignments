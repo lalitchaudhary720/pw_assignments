{
 "cells": [
  {
   "cell_type": "markdown",
   "id": "eebab020-366c-465d-abd9-66121395632b",
   "metadata": {},
   "source": [
    "1. Who developed Python Programming Language ?"
   ]
  },
  {
   "cell_type": "raw",
   "id": "8922cc6f-7a9f-4b41-b074-059f147b53b9",
   "metadata": {},
   "source": [
    "#solution\n",
    "Guido Van Rossam developed python in 1989"
   ]
  },
  {
   "cell_type": "markdown",
   "id": "5e84d873-15d8-450d-ba5e-2742dbaa1449",
   "metadata": {},
   "source": [
    "2. Which type of Programming does Python support?"
   ]
  },
  {
   "cell_type": "raw",
   "id": "f7072f2f-9fe5-4e96-b070-cee07fc5e4f3",
   "metadata": {},
   "source": [
    "#Solution\n",
    "Dynamic typed programming language. It fully supports Object oriented programming, functional programming,\n",
    "structured programming and scripting programming."
   ]
  },
  {
   "cell_type": "markdown",
   "id": "b0474b5d-2666-4e0e-8f41-c8660deadd4a",
   "metadata": {},
   "source": [
    "3. Is Python case sensitive when dealing with identifiers?"
   ]
  },
  {
   "cell_type": "raw",
   "id": "e5fcefd5-0606-445f-945f-3cf313ba20b0",
   "metadata": {},
   "source": [
    "Yes, python is case sensitive.\n",
    "total  #var\n",
    "Total  #var\n",
    "\n",
    "above two identifiers are different for python."
   ]
  },
  {
   "cell_type": "markdown",
   "id": "ff770fa1-8b1e-4ac4-a4b8-a4f0caa3255c",
   "metadata": {},
   "source": [
    "4. What is the correct extension of the Python file?"
   ]
  },
  {
   "cell_type": "raw",
   "id": "a8d88607-ae85-4b61-843b-9e49c4b29bf8",
   "metadata": {},
   "source": [
    "'.py' this is the correct extension of python file"
   ]
  },
  {
   "cell_type": "markdown",
   "id": "f237a197-84e1-4daf-b4f9-e71841ead6b8",
   "metadata": {},
   "source": [
    "5. Is Python code compiled or interpreted?"
   ]
  },
  {
   "cell_type": "raw",
   "id": "b289c9e6-04ba-4181-8267-4c0907559f1f",
   "metadata": {},
   "source": [
    "Python code is interpreted"
   ]
  },
  {
   "cell_type": "markdown",
   "id": "4a705929-0897-4e09-9ffd-04b4e146ac5c",
   "metadata": {},
   "source": [
    "6. Name a few blocks of code used to define in Python language?"
   ]
  },
  {
   "cell_type": "code",
   "execution_count": 1,
   "id": "bdc9e7d5-2593-44fd-b9bf-c16c9db1c3de",
   "metadata": {},
   "outputs": [],
   "source": [
    "#solution\n",
    "A module, a functions body are the blocks of code"
   ]
  },
  {
   "cell_type": "markdown",
   "id": "f532a2b7-47bb-40e2-b21f-d524c4b2e258",
   "metadata": {},
   "source": [
    "7. State a character used to give single-line comments in Python?"
   ]
  },
  {
   "cell_type": "raw",
   "id": "df220eff-5f12-4e86-b7d9-5102631a5724",
   "metadata": {},
   "source": [
    "#solution\n",
    "'#' this is used for single line comments"
   ]
  },
  {
   "cell_type": "markdown",
   "id": "f0d31934-6ca2-4ca9-b9a0-36c7be7b94ce",
   "metadata": {},
   "source": [
    "8. Mention functions which can help us to find the version of python that we are currently working on ? "
   ]
  },
  {
   "cell_type": "markdown",
   "id": "01e83df2-4769-4b94-8e8c-590d5dac633d",
   "metadata": {},
   "source": [
    "#solution\n",
    "python.version() used to know the current version of python"
   ]
  },
  {
   "cell_type": "markdown",
   "id": "71e08ce4-e342-46e0-b09e-bcfb70c37337",
   "metadata": {},
   "source": [
    "9. Python supports the creation of anonymous functions at runtime, using a construct called"
   ]
  },
  {
   "cell_type": "raw",
   "id": "8d65ec81-729d-4557-9ff8-5d817e871abf",
   "metadata": {},
   "source": [
    "#solution\n",
    "lambda"
   ]
  },
  {
   "cell_type": "markdown",
   "id": "84d70cbf-dbb1-4304-b65e-c8ed53cf124e",
   "metadata": {},
   "source": [
    "10. What does pip stand for python?"
   ]
  },
  {
   "cell_type": "raw",
   "id": "1c67b832-e281-4b2b-aba9-fedb370d365a",
   "metadata": {},
   "source": [
    "#solution\n",
    "PIP stands for Performance Improvement Plan"
   ]
  },
  {
   "cell_type": "markdown",
   "id": "a6470c61-5161-4560-b5af-4c9c5abfc343",
   "metadata": {},
   "source": [
    "11. Mention a few built-in functions in python?"
   ]
  },
  {
   "cell_type": "raw",
   "id": "275f2260-65d4-4b6a-8612-b19e1eaac9eb",
   "metadata": {},
   "source": [
    "#solution\n",
    "print()\n",
    "len()\n",
    "type()\n",
    "dir()\n",
    "id()\n",
    "int()"
   ]
  },
  {
   "cell_type": "markdown",
   "id": "fa5f1c87-f160-4dfa-974a-2dac4588d792",
   "metadata": {},
   "source": [
    "12. What is the maximum possible length of an identifier in Python?"
   ]
  },
  {
   "cell_type": "raw",
   "id": "21f2bdfc-6078-4fc5-9176-4c485330aedc",
   "metadata": {},
   "source": [
    "#solution\n",
    "not defined"
   ]
  },
  {
   "cell_type": "markdown",
   "id": "bc6fc8b4-aecf-4623-878a-9e7dae178640",
   "metadata": {},
   "source": [
    "13. What are the benefits of using Python?"
   ]
  },
  {
   "cell_type": "raw",
   "id": "1212c2ab-4ce6-4d0b-aa35-11e9de71382b",
   "metadata": {},
   "source": [
    "#solution\n",
    "1. Easy to learn and code\n",
    "2. Freeware and Opensource\n",
    "3. Platfrom Independent\n",
    "4. Dynamically typed\n",
    "5. allow to use other language codes\n",
    "6. allow to use python codes in other languages"
   ]
  },
  {
   "cell_type": "markdown",
   "id": "c9e663cb-6128-4109-a867-b3ec2425fbb7",
   "metadata": {},
   "source": [
    "14. How is memory managed in Python?"
   ]
  },
  {
   "cell_type": "raw",
   "id": "bc1a31d4-af91-48c2-ae2b-5c68924b1222",
   "metadata": {},
   "source": [
    "#solution\n",
    "Memory management in Python involves a private heap containing all Python objects and data structures."
   ]
  },
  {
   "cell_type": "markdown",
   "id": "02e92052-820c-41a2-b63e-c21a4c2f7424",
   "metadata": {},
   "source": [
    "15. How to install Python on Windows and set path variables?"
   ]
  },
  {
   "cell_type": "raw",
   "id": "10183b06-8093-4668-9cdd-51024a174a14",
   "metadata": {},
   "source": [
    "#solution\n",
    "Run the Executable Installer\n",
    "1. Once the installer is downloaded, run the Python installer.\n",
    "\n",
    "2. Check the Install launcher for all users check box. Further, you may check the Add Python 3.7 to \n",
    "path check box to include the interpreter in the execution path.\n",
    "\n",
    "3. Select Customize installation. Choose the optional features by checking the following check boxes:\n",
    "\n",
    "Documentation\n",
    "\n",
    "pip\n",
    "\n",
    "tcl/tk and IDLE (to install tkinter and IDLE)\n",
    "\n",
    "Python test suite (to install the standard library test suite of Python)\n",
    "\n",
    "Install the global launcher for `.py` files. This makes it easier to start Python\n",
    "\n",
    "Install for all users."
   ]
  },
  {
   "cell_type": "markdown",
   "id": "9c7f331a-cb0b-476d-8b77-93784bbe44e8",
   "metadata": {},
   "source": [
    "16. Is indentation required in python?"
   ]
  },
  {
   "cell_type": "code",
   "execution_count": null,
   "id": "9791673c-4ae5-415d-9a43-8f7347933c26",
   "metadata": {},
   "outputs": [],
   "source": [
    "#solution\n",
    "Indentation is mandatory in python to define the blocks of statements"
   ]
  }
 ],
 "metadata": {
  "kernelspec": {
   "display_name": "Python 3 (ipykernel)",
   "language": "python",
   "name": "python3"
  },
  "language_info": {
   "codemirror_mode": {
    "name": "ipython",
    "version": 3
   },
   "file_extension": ".py",
   "mimetype": "text/x-python",
   "name": "python",
   "nbconvert_exporter": "python",
   "pygments_lexer": "ipython3",
   "version": "3.10.6"
  }
 },
 "nbformat": 4,
 "nbformat_minor": 5
}
