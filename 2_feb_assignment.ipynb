{
 "cells": [
  {
   "cell_type": "code",
   "execution_count": 1,
   "id": "7dd1cd3b-7632-4c15-91d0-8b6e0d825824",
   "metadata": {},
   "outputs": [],
   "source": [
    "# 1. Explain when to use for loop & while loop with an example"
   ]
  },
  {
   "cell_type": "code",
   "execution_count": 23,
   "id": "47d0c4ca-2a5b-4708-806f-0b604ded0b3a",
   "metadata": {},
   "outputs": [
    {
     "name": "stdout",
     "output_type": "stream",
     "text": [
      "L,a,l,i,t, ,C,h,a,u,d,h,a,r,y,\n",
      "\n",
      "While Loop Example\n",
      "5,4,3,2,1,"
     ]
    }
   ],
   "source": [
    "# Solution\n",
    "\n",
    "# for loop is used to perform iteration on values like string, list, tuple, set. \n",
    "# example\n",
    "\n",
    "a='Lalit Chaudhary'  #extract all the words one by one\n",
    "\n",
    "for i in a: \n",
    "    print(i, end=',')\n",
    "\n",
    "    \n",
    "# While loop is used to perform iteration based on some condition. This loop stop when condition will be false \n",
    "print(\"\\n\\nWhile Loop Example\")\n",
    "a=5    # ex:- print reverse numbers like 5, 4, 3, 2, 1 using while loop\n",
    "\n",
    "while a>0:\n",
    "    print(a, end=',')\n",
    "    a-=1\n"
   ]
  },
  {
   "cell_type": "code",
   "execution_count": 2,
   "id": "d2375eaa-5328-49ec-bcf3-2a9e9b94d2db",
   "metadata": {},
   "outputs": [],
   "source": [
    "# 2. sum & product of first 10 natural numbers using while and for loop"
   ]
  },
  {
   "cell_type": "code",
   "execution_count": 11,
   "id": "c2844055-895d-4317-8afe-2818f858f7b4",
   "metadata": {},
   "outputs": [
    {
     "name": "stdout",
     "output_type": "stream",
     "text": [
      "Sum:  55\n",
      "Product:  3628800\n"
     ]
    }
   ],
   "source": [
    "# for loop\n",
    "sum=0\n",
    "product=1\n",
    "a=10\n",
    "for i in range(1,a+1):\n",
    "    sum+=i\n",
    "    product*=i\n",
    "    \n",
    "print(\"Sum: \", sum)\n",
    "print(\"Product: \", product)\n",
    "    "
   ]
  },
  {
   "cell_type": "code",
   "execution_count": 12,
   "id": "07d66e18-b962-4851-93f3-bf94885a5c54",
   "metadata": {},
   "outputs": [
    {
     "name": "stdout",
     "output_type": "stream",
     "text": [
      "Sum:  55\n",
      "Product:  3628800\n"
     ]
    }
   ],
   "source": [
    "# while loop\n",
    "sum=0\n",
    "product=1\n",
    "a=1\n",
    "\n",
    "while a<=10:\n",
    "    sum+=a\n",
    "    product*=a\n",
    "    a+=1\n",
    "print(\"Sum: \", sum)\n",
    "print(\"Product: \", product)"
   ]
  },
  {
   "cell_type": "code",
   "execution_count": 1,
   "id": "87ce76d0-ed35-40d7-94fa-82f7ae9ab96a",
   "metadata": {},
   "outputs": [],
   "source": [
    "# 3. Create a python program to compute the electricity bill for a household.\n",
    "\n",
    "# The per-unit charges in rupees are as follows: \n",
    "# For the first 100 units, the user will be charged Rs. 4.5 per\n",
    "# unit, for the next 100 units, the user will be charged Rs. 6 per unit, and for the next 100 units, the user will\n",
    "# be charged Rs. 10 per unit, After 300 units and above the user will be charged Rs. 20 per unit.\n",
    "# You are required to take the units of electricity consumed in a month from the user as input.\n",
    "\n",
    "# Your program must pass this test case: when the unit of electricity consumed by the user in a month is\n",
    "# 310, the total electricity bill should be 2250."
   ]
  },
  {
   "cell_type": "code",
   "execution_count": 2,
   "id": "e2317241-eb3c-4adc-97df-77c4fbf3dc44",
   "metadata": {},
   "outputs": [],
   "source": [
    "# Solution"
   ]
  },
  {
   "cell_type": "code",
   "execution_count": 6,
   "id": "52d41824-1413-4cb6-ac39-c76072083b62",
   "metadata": {},
   "outputs": [
    {
     "name": "stdin",
     "output_type": "stream",
     "text": [
      "Enter your electricity units:  310\n"
     ]
    },
    {
     "name": "stdout",
     "output_type": "stream",
     "text": [
      "The electricity bill is:  2250.0\n"
     ]
    }
   ],
   "source": [
    "a=float(input(\"Enter your electricity units: \"))\n",
    "bill=0\n",
    "\n",
    "if a<=100:\n",
    "    bill= a*4.5\n",
    "    print(\"The electricity bill is: \", bill)\n",
    "    \n",
    "elif a>100 and a<=200:\n",
    "    a-=100\n",
    "    bill=100*4.5+a*6\n",
    "    print(\"The electricity bill is: \", bill)\n",
    "\n",
    "elif a>200 and a<=300: \n",
    "    a-=200\n",
    "    bill=100*4.5+100*6+a*10\n",
    "    print(\"The electricity bill is: \", bill)\n",
    "\n",
    "else: \n",
    "    a-=300\n",
    "    bill=100*4.5+100*6+100*10+a*20\n",
    "    print(\"The electricity bill is: \", bill)\n",
    "        "
   ]
  },
  {
   "cell_type": "code",
   "execution_count": 7,
   "id": "547196bf-9fc9-441b-ab1a-e16da9abbeaa",
   "metadata": {},
   "outputs": [],
   "source": [
    "# 4. Create a list of numbers from 1 to 100. Use for loop and while loop to calculate the cube of each\n",
    "# number and if the cube of that number is divisible by 4 or 5 then append that number in a list and print that list."
   ]
  },
  {
   "cell_type": "code",
   "execution_count": 9,
   "id": "e017c64c-6d84-4a7e-a1f5-dba4872947e7",
   "metadata": {},
   "outputs": [
    {
     "name": "stdout",
     "output_type": "stream",
     "text": [
      "The new list of numbers:  [2, 4, 5, 6, 8, 10, 12, 14, 15, 16, 18, 20, 22, 24, 25, 26, 28, 30, 32, 34, 35, 36, 38, 40, 42, 44, 45, 46, 48, 50, 52, 54, 55, 56, 58, 60, 62, 64, 65, 66, 68, 70, 72, 74, 75, 76, 78, 80, 82, 84, 85, 86, 88, 90, 92, 94, 95, 96, 98, 100]\n"
     ]
    }
   ],
   "source": [
    "# for loop solution\n",
    "l=list(range(1,101))\n",
    "l1=[]\n",
    "\n",
    "for i in l:\n",
    "    if (i**3)%4==0 or (i**3)%5==0:\n",
    "        l1.append(i)\n",
    "    else:\n",
    "        pass\n",
    "    \n",
    "print(\"The new list of numbers: \",l1)\n"
   ]
  },
  {
   "cell_type": "code",
   "execution_count": 8,
   "id": "faabd2f2-ea5d-4e8e-adc4-53118d1dc478",
   "metadata": {},
   "outputs": [
    {
     "name": "stdout",
     "output_type": "stream",
     "text": [
      "The new list of numbers:  [2, 4, 5, 6, 8, 10, 12, 14, 15, 16, 18, 20, 22, 24, 25, 26, 28, 30, 32, 34, 35, 36, 38, 40, 42, 44, 45, 46, 48, 50, 52, 54, 55, 56, 58, 60, 62, 64, 65, 66, 68, 70, 72, 74, 75, 76, 78, 80, 82, 84, 85, 86, 88, 90, 92, 94, 95, 96, 98, 100]\n"
     ]
    }
   ],
   "source": [
    "# while loop solution\n",
    "l=list(range(1,101))\n",
    "i=0\n",
    "l1=[]\n",
    "while i<len(l):\n",
    "    if (l[i]**3)%4==0 or (l[i]**3)%5==0:\n",
    "        l1.append(l[i])\n",
    "    i+=1\n",
    "\n",
    "print(\"The new list of numbers: \",l1)\n",
    "        "
   ]
  },
  {
   "cell_type": "code",
   "execution_count": 10,
   "id": "70b6a4df-914a-4684-a468-9074e242ba51",
   "metadata": {},
   "outputs": [],
   "source": [
    "# 5. Write a program to filter count vowels in the below-given string.\n",
    "# string = \"I want to become a data scientist\""
   ]
  },
  {
   "cell_type": "code",
   "execution_count": 16,
   "id": "ade4e99f-c24c-4643-8008-e15cf773237c",
   "metadata": {},
   "outputs": [
    {
     "name": "stdout",
     "output_type": "stream",
     "text": [
      "Vowels from the string:  ['I', 'a', 'o', 'e', 'o', 'e', 'a', 'a', 'a', 'i', 'e', 'i']\n",
      "Total vowels:  12\n"
     ]
    }
   ],
   "source": [
    "# solution\n",
    "\n",
    "s = \"I want to become a data scientist\"\n",
    "f=[]\n",
    "\n",
    "for i in s:\n",
    "    if i.lower() in ['a','e','i','o','u']:\n",
    "        f.append(i)\n",
    "\n",
    "print(\"Vowels from the string: \",f)\n",
    "print(\"Total vowels: \",len(f))\n",
    "\n"
   ]
  },
  {
   "cell_type": "code",
   "execution_count": null,
   "id": "bba82876-5a21-4f98-be81-56def722f3af",
   "metadata": {},
   "outputs": [],
   "source": []
  }
 ],
 "metadata": {
  "kernelspec": {
   "display_name": "Python 3 (ipykernel)",
   "language": "python",
   "name": "python3"
  },
  "language_info": {
   "codemirror_mode": {
    "name": "ipython",
    "version": 3
   },
   "file_extension": ".py",
   "mimetype": "text/x-python",
   "name": "python",
   "nbconvert_exporter": "python",
   "pygments_lexer": "ipython3",
   "version": "3.10.6"
  }
 },
 "nbformat": 4,
 "nbformat_minor": 5
}
