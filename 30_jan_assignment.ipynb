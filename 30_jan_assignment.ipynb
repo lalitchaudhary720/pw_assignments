{
 "cells": [
  {
   "cell_type": "code",
   "execution_count": 1,
   "id": "355bb3fe-5e6f-4d81-b30c-b52821203f1a",
   "metadata": {},
   "outputs": [],
   "source": [
    "# 1. Grading Program"
   ]
  },
  {
   "cell_type": "code",
   "execution_count": 4,
   "id": "0f83992f-d637-4bd2-b3f5-28a2075758e7",
   "metadata": {},
   "outputs": [
    {
     "name": "stdin",
     "output_type": "stream",
     "text": [
      "Enter your percentage:  90.33\n"
     ]
    },
    {
     "name": "stdout",
     "output_type": "stream",
     "text": [
      "Grade A\n"
     ]
    }
   ],
   "source": [
    "percent=float(input(\"Enter your percentage: \"))\n",
    "\n",
    "if percent>90:\n",
    "    print(\"Grade A\")\n",
    "elif percent>80 and percent<=90:\n",
    "    print(\"Grade B\")\n",
    "elif percent>=60 and percent<=80:\n",
    "    print(\"Grade C\")\n",
    "else:\n",
    "    print(\"Grade D\")"
   ]
  },
  {
   "cell_type": "code",
   "execution_count": 5,
   "id": "1f236162-71b6-42ac-96e0-b7a194d52be8",
   "metadata": {},
   "outputs": [],
   "source": [
    "# 2. Road tax"
   ]
  },
  {
   "cell_type": "code",
   "execution_count": 7,
   "id": "460ded01-0de1-4cd7-8347-e1d4793f0aff",
   "metadata": {},
   "outputs": [
    {
     "name": "stdin",
     "output_type": "stream",
     "text": [
      "Enter the cost of your bike:  200000\n"
     ]
    },
    {
     "name": "stdout",
     "output_type": "stream",
     "text": [
      "15% road tax is applicable:  30000.0\n"
     ]
    }
   ],
   "source": [
    "bk=float(input(\"Enter the cost of your bike: \"))\n",
    "\n",
    "if bk<=50000:\n",
    "    tax=bk*0.05\n",
    "    print(\"5% road tax is applicable: \",tax)\n",
    "elif bk>50000 and bk<=100000:\n",
    "    tax=bk*0.01\n",
    "    print(\"10% road tax is applicable: \",tax)\n",
    "else:\n",
    "    tax=bk*0.15\n",
    "    print(\"15% road tax is applicable: \",tax)"
   ]
  },
  {
   "cell_type": "code",
   "execution_count": 8,
   "id": "7e8f1b2d-1bd5-47ce-9cc2-409862e06b6b",
   "metadata": {},
   "outputs": [],
   "source": [
    "# 3. Monument"
   ]
  },
  {
   "cell_type": "code",
   "execution_count": 11,
   "id": "b922df64-fcdc-4925-a5aa-b25888ff42b8",
   "metadata": {},
   "outputs": [
    {
     "name": "stdin",
     "output_type": "stream",
     "text": [
      "Enter the city:  Jaipur\n"
     ]
    },
    {
     "name": "stdout",
     "output_type": "stream",
     "text": [
      "Jal Mahal\n"
     ]
    }
   ],
   "source": [
    "city=input(\"Enter the city: \")\n",
    "\n",
    "if city.lower()=='delhi':\n",
    "    print(\"Red Fort\")\n",
    "elif city.lower()=='agra':\n",
    "    print(\"Taj Mahal\")\n",
    "elif city.lower()==\"jaipur\":\n",
    "    print('Jal Mahal')\n",
    "else: \n",
    "    print(\"Please enter valid city\")"
   ]
  },
  {
   "cell_type": "code",
   "execution_count": 12,
   "id": "ec02d3c2-da9d-4259-8821-3fa6f68bcab6",
   "metadata": {},
   "outputs": [],
   "source": [
    "# 4. check how many times a given number is divided by 3 before it is less than or equal to 10"
   ]
  },
  {
   "cell_type": "code",
   "execution_count": 1,
   "id": "29cc15ab-2490-4069-aad8-2ba2820ac574",
   "metadata": {},
   "outputs": [
    {
     "name": "stdin",
     "output_type": "stream",
     "text": [
      "Enter the number:  1\n"
     ]
    },
    {
     "name": "stdout",
     "output_type": "stream",
     "text": [
      "1\n"
     ]
    }
   ],
   "source": [
    "a= float(input(\"Enter the number: \"))\n",
    "c=0\n",
    "while True:\n",
    "    "
   ]
  },
  {
   "cell_type": "code",
   "execution_count": 2,
   "id": "d10a39a4-e9f3-4e7b-9cfd-cfc7a21f2134",
   "metadata": {},
   "outputs": [
    {
     "data": {
      "text/plain": [
       "0"
      ]
     },
     "execution_count": 2,
     "metadata": {},
     "output_type": "execute_result"
    }
   ],
   "source": [
    "b=18%3\n",
    "b"
   ]
  },
  {
   "cell_type": "code",
   "execution_count": 3,
   "id": "4ff76084-1c86-493c-a587-fbfa3233595b",
   "metadata": {},
   "outputs": [],
   "source": [
    "# 5. Why and when to use while loop"
   ]
  },
  {
   "cell_type": "code",
   "execution_count": 2,
   "id": "79c7db58-7052-4312-bec9-c5203832b16d",
   "metadata": {},
   "outputs": [
    {
     "name": "stdin",
     "output_type": "stream",
     "text": [
      "Enter a number:  200\n"
     ]
    },
    {
     "name": "stdout",
     "output_type": "stream",
     "text": [
      "Enter again\n"
     ]
    },
    {
     "name": "stdin",
     "output_type": "stream",
     "text": [
      "Enter a number :  21\n"
     ]
    },
    {
     "name": "stdout",
     "output_type": "stream",
     "text": [
      "Enter again\n"
     ]
    },
    {
     "name": "stdin",
     "output_type": "stream",
     "text": [
      "Enter a number :  2\n"
     ]
    },
    {
     "name": "stdout",
     "output_type": "stream",
     "text": [
      "Enter again\n"
     ]
    },
    {
     "name": "stdin",
     "output_type": "stream",
     "text": [
      "Enter a number :  12\n"
     ]
    },
    {
     "name": "stdout",
     "output_type": "stream",
     "text": [
      "Correct input\n"
     ]
    }
   ],
   "source": [
    "# we use while loop if we want to do something repeatitively based on some certain condition.\n",
    "# Like I want a number as input between 10 to 20 but don't know in how many times user give the correct input.\n",
    "# so, in this case we case while loop\n",
    "\n",
    "a=float(input(\"Enter a number: \"))\n",
    "\n",
    "while True:\n",
    "    if 10<=a<=20:\n",
    "        print(\"Correct input\")\n",
    "        break\n",
    "    else:\n",
    "        print(\"Enter again\")\n",
    "        a=float(input(\"Enter a number : \"))"
   ]
  },
  {
   "cell_type": "code",
   "execution_count": 3,
   "id": "55ff1174-d313-494b-8b6b-3b632645490f",
   "metadata": {},
   "outputs": [],
   "source": [
    "# 6. use nested while loop to print 3 different pattern"
   ]
  },
  {
   "cell_type": "code",
   "execution_count": 23,
   "id": "6667d01a-015e-4709-bfbe-518ad1d74fbf",
   "metadata": {},
   "outputs": [
    {
     "name": "stdout",
     "output_type": "stream",
     "text": [
      "**********\n",
      "****  ****\n",
      "***    ***\n",
      "**      **\n",
      "*        *\n",
      "10\n"
     ]
    }
   ],
   "source": [
    "a=5\n",
    "s=0\n",
    "sp=0\n",
    "while a>0:\n",
    "    b=a\n",
    "    while b>0:\n",
    "        print(\"*\",end='')\n",
    "        b-=1\n",
    "        \n",
    "    while s>0:\n",
    "        print(\" \", end='')\n",
    "        s-=1\n",
    "    \n",
    "    sp+=2\n",
    "    s=sp\n",
    "    c=a\n",
    "    while c>0:\n",
    "        print(\"*\",end='')\n",
    "        c-=1\n",
    "    print()\n",
    "    a-=1\n",
    "       "
   ]
  },
  {
   "cell_type": "code",
   "execution_count": 4,
   "id": "5d6d2cee-60ba-4552-8350-d0bf19df802d",
   "metadata": {},
   "outputs": [],
   "source": [
    "# 7. Reverse a while loop to display numbers from 10 to 1."
   ]
  },
  {
   "cell_type": "code",
   "execution_count": 5,
   "id": "7fd983a6-8a72-46b9-ab49-d5bb0c01cf1b",
   "metadata": {},
   "outputs": [
    {
     "name": "stdout",
     "output_type": "stream",
     "text": [
      "10\n",
      "9\n",
      "8\n",
      "7\n",
      "6\n",
      "5\n",
      "4\n",
      "3\n",
      "2\n",
      "1\n"
     ]
    }
   ],
   "source": [
    "a=10\n",
    "while a>0:\n",
    "    print(a)\n",
    "    a-=1"
   ]
  },
  {
   "cell_type": "code",
   "execution_count": null,
   "id": "bda28fb1-7dd0-4687-9175-39ab405e5176",
   "metadata": {},
   "outputs": [],
   "source": [
    "# 8. question same as 7 (above)"
   ]
  }
 ],
 "metadata": {
  "kernelspec": {
   "display_name": "Python 3 (ipykernel)",
   "language": "python",
   "name": "python3"
  },
  "language_info": {
   "codemirror_mode": {
    "name": "ipython",
    "version": 3
   },
   "file_extension": ".py",
   "mimetype": "text/x-python",
   "name": "python",
   "nbconvert_exporter": "python",
   "pygments_lexer": "ipython3",
   "version": "3.10.6"
  }
 },
 "nbformat": 4,
 "nbformat_minor": 5
}
