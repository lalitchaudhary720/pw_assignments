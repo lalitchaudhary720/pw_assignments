{
 "cells": [
  {
   "cell_type": "markdown",
   "id": "21fb9bb0-ab58-4622-b58b-2e2e3ae83520",
   "metadata": {},
   "source": [
    "# 4th Feb Assignment"
   ]
  },
  {
   "cell_type": "code",
   "execution_count": null,
   "id": "7edb22a8-5dd5-4896-a004-30fa7ced5871",
   "metadata": {},
   "outputs": [],
   "source": [
    "'''\n",
    "Q1. Create a python program to sort the given list of tuples based on integer value using a\n",
    "lambda function.\n",
    "[('Sachin Tendulkar', 34357), ('Ricky Ponting', 27483), ('Jack Kallis', 25534), ('Virat Kohli', 24936)]\n",
    "\n",
    "'''"
   ]
  },
  {
   "cell_type": "code",
   "execution_count": 34,
   "id": "dae960f6-a22c-4894-95b7-14a650cf3eef",
   "metadata": {},
   "outputs": [
    {
     "data": {
      "text/plain": [
       "[('Sachin Tendulkar', 34357),\n",
       " ('Ricky Ponting', 27483),\n",
       " ('Jack Kallis', 25534),\n",
       " ('Virat Kohli', 24936)]"
      ]
     },
     "execution_count": 34,
     "metadata": {},
     "output_type": "execute_result"
    }
   ],
   "source": [
    "a=[('Sachin Tendulkar', 34357), ('Ricky Ponting', 27483), ('Jack Kallis', 25534), ('Virat Kohli', 24936)]\n",
    "\n",
    "sorted(a,key=lambda i:i[1],reverse=True)"
   ]
  },
  {
   "cell_type": "code",
   "execution_count": 36,
   "id": "14da9070-90d3-4bbb-b347-cbdd635328a0",
   "metadata": {},
   "outputs": [],
   "source": [
    "'''\n",
    "Q2. Write a Python Program to find the squares of all the numbers in the given list of integers using\n",
    "lambda and map functions.\n",
    "[1, 2, 3, 4, 5, 6, 7, 8, 9, 10]\n",
    "'''"
   ]
  },
  {
   "cell_type": "code",
   "execution_count": 37,
   "id": "59d3a7b3-b392-4a34-927d-5e5b8d159bfd",
   "metadata": {},
   "outputs": [
    {
     "name": "stdout",
     "output_type": "stream",
     "text": [
      "[1, 4, 9, 16, 25, 36, 49, 64, 81, 100]\n"
     ]
    }
   ],
   "source": [
    "a=[1, 2, 3, 4, 5, 6, 7, 8, 9, 10]\n",
    "\n",
    "sq=list(map(lambda x:x*x,a))\n",
    "print(sq)"
   ]
  },
  {
   "cell_type": "code",
   "execution_count": 38,
   "id": "90eab40e-f739-437e-b6f1-f9861fb005fc",
   "metadata": {},
   "outputs": [],
   "source": [
    "# Q3. Write a python program to convert the given list of integers into a tuple of strings. Use map and lambda functions\n",
    "# Given String: [1, 2, 3, 4, 5, 6, 7, 8, 9, 10]\n",
    "# Expected output: ('1', '2', '3', '4', '5', '6', '7', '8', '9', '10')"
   ]
  },
  {
   "cell_type": "code",
   "execution_count": 39,
   "id": "af3f72ce-3774-4253-ad8c-436d7277c5a8",
   "metadata": {},
   "outputs": [
    {
     "data": {
      "text/plain": [
       "('1', '2', '3', '4', '5', '6', '7', '8', '9', '10')"
      ]
     },
     "execution_count": 39,
     "metadata": {},
     "output_type": "execute_result"
    }
   ],
   "source": [
    "lst=[1, 2, 3, 4, 5, 6, 7, 8, 9, 10]\n",
    "tp=tuple(map(lambda x:str(x),lst))\n",
    "tp"
   ]
  },
  {
   "cell_type": "code",
   "execution_count": 40,
   "id": "cdd4171d-4a94-4e37-a22a-e2bff32defa4",
   "metadata": {},
   "outputs": [],
   "source": [
    "# Q4. Write a python program using reduce function to compute the product of a list containing numbers from 1 to 25."
   ]
  },
  {
   "cell_type": "code",
   "execution_count": 49,
   "id": "a5ad973b-a970-4df7-af83-7ca2178fbd72",
   "metadata": {},
   "outputs": [
    {
     "data": {
      "text/plain": [
       "15511210043330985984000000"
      ]
     },
     "execution_count": 49,
     "metadata": {},
     "output_type": "execute_result"
    }
   ],
   "source": [
    "n=25\n",
    "lst=[i for i in range(1,n+1)]\n",
    "\n",
    "import functools as f\n",
    "product=f.reduce(lambda x,y:x*y,lst)\n",
    "product"
   ]
  },
  {
   "cell_type": "code",
   "execution_count": 50,
   "id": "5baa33a8-9355-4a70-91c3-622b793a249c",
   "metadata": {},
   "outputs": [],
   "source": [
    "# Q5. Write a python program to filter the numbers in a given list that are divisible by 2 and 3 using the\n",
    "# filter function.\n",
    "# [2, 3, 6, 9, 27, 60, 90, 120, 55, 46]"
   ]
  },
  {
   "cell_type": "code",
   "execution_count": 52,
   "id": "3dc7daf5-4e41-4cda-acb3-b74cb9df5ea7",
   "metadata": {},
   "outputs": [
    {
     "data": {
      "text/plain": [
       "[6, 60, 90, 120]"
      ]
     },
     "execution_count": 52,
     "metadata": {},
     "output_type": "execute_result"
    }
   ],
   "source": [
    "a=[2, 3, 6, 9, 27, 60, 90, 120, 55, 46]\n",
    "\n",
    "s=filter(lambda x: x%2==0 and x%3==0 ,a)\n",
    "list(s)"
   ]
  },
  {
   "cell_type": "code",
   "execution_count": null,
   "id": "33cca2df-7785-440a-a502-77b931a821ad",
   "metadata": {},
   "outputs": [],
   "source": [
    "# Q6. Write a python program to find palindromes in the given list of strings using lambda and filter function.\n",
    "# ['python', 'php', 'aba', 'radar', 'level']"
   ]
  },
  {
   "cell_type": "code",
   "execution_count": 55,
   "id": "e19a79d5-4129-4f84-ae9b-981f9c7ea6d9",
   "metadata": {},
   "outputs": [
    {
     "name": "stdout",
     "output_type": "stream",
     "text": [
      "All Palindromes from the list are:\n",
      " ['php', 'aba', 'radar', 'level']\n"
     ]
    }
   ],
   "source": [
    "a=['python', 'php', 'aba', 'radar', 'level']\n",
    "\n",
    "p=list(filter(lambda x: x==x[::-1],a))\n",
    "print(\"All Palindromes from the list are:\\n\",p)"
   ]
  },
  {
   "cell_type": "code",
   "execution_count": null,
   "id": "ba9b4f68-e552-4d90-9654-41b65c266964",
   "metadata": {},
   "outputs": [],
   "source": []
  }
 ],
 "metadata": {
  "kernelspec": {
   "display_name": "Python 3 (ipykernel)",
   "language": "python",
   "name": "python3"
  },
  "language_info": {
   "codemirror_mode": {
    "name": "ipython",
    "version": 3
   },
   "file_extension": ".py",
   "mimetype": "text/x-python",
   "name": "python",
   "nbconvert_exporter": "python",
   "pygments_lexer": "ipython3",
   "version": "3.10.6"
  }
 },
 "nbformat": 4,
 "nbformat_minor": 5
}
