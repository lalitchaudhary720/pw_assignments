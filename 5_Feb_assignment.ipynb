{
 "cells": [
  {
   "cell_type": "code",
   "execution_count": 1,
   "id": "d2737160-fce7-4805-9dc0-f12436a951fc",
   "metadata": {},
   "outputs": [],
   "source": [
    "# Q1. Explain Class and Object with respect to Object-Oriented Programming. Give a suitable example."
   ]
  },
  {
   "cell_type": "code",
   "execution_count": null,
   "id": "c81fe892-42bd-4b5e-8009-25c8de5890f2",
   "metadata": {},
   "outputs": [],
   "source": [
    "Class is a plan or a blue print which contain attributes & methods..\n",
    "Object is an instance of class which is used to access the functionalities of class."
   ]
  },
  {
   "cell_type": "code",
   "execution_count": 2,
   "id": "5bc1bad7-9fe2-45d8-8970-ec2109a26e15",
   "metadata": {},
   "outputs": [
    {
     "name": "stdout",
     "output_type": "stream",
     "text": [
      "Car name: Civic\n",
      "Car color: White\n",
      "Car Model: 2018\n"
     ]
    }
   ],
   "source": [
    "# Example\n",
    "\n",
    "class Car:\n",
    "    def __init__(self,name,color,model):\n",
    "        self.cname=name\n",
    "        self.color=color\n",
    "        self.model=model\n",
    "        \n",
    "    def display(self):\n",
    "        print(\"Car name: {}\\nCar color: {}\\nCar Model: {}\".format(self.cname,self.color,self.model))\n",
    "        \n",
    "c=Car('Civic','White',2018)\n",
    "c.display()  # car class object"
   ]
  },
  {
   "cell_type": "code",
   "execution_count": 3,
   "id": "c55f5cae-5fd7-434e-94b1-fafe0fb46a10",
   "metadata": {},
   "outputs": [],
   "source": [
    "# Q2. Name the four pillars of OOPs."
   ]
  },
  {
   "cell_type": "code",
   "execution_count": 4,
   "id": "a3a08abd-6f50-49cc-b46f-a90d96ac8a8e",
   "metadata": {},
   "outputs": [],
   "source": [
    "Four Pillars are:\n",
    "1. Polymorphism\n",
    "2. Inheritance\n",
    "3. Abstraction\n",
    "4. Encapsulation"
   ]
  },
  {
   "cell_type": "code",
   "execution_count": null,
   "id": "96796d2a-7007-40f7-85c1-622d882784d0",
   "metadata": {},
   "outputs": [],
   "source": [
    "# Q3. Explain why the __init__() function is used. Give a suitable example."
   ]
  },
  {
   "cell_type": "code",
   "execution_count": null,
   "id": "640f9136-a454-497a-b494-60e0ec1e0a31",
   "metadata": {},
   "outputs": [],
   "source": [
    "__init__() is known as Constructor. This function executed automatically when we declared a class and\n",
    "it used to initialise the instance variables of class."
   ]
  },
  {
   "cell_type": "code",
   "execution_count": null,
   "id": "095ca426-ae28-4908-a8aa-37fdafea1354",
   "metadata": {},
   "outputs": [],
   "source": [
    "# Q4. Why self is used in OOPs?"
   ]
  },
  {
   "cell_type": "code",
   "execution_count": null,
   "id": "1482a262-ca06-465c-8661-f497017afacb",
   "metadata": {},
   "outputs": [],
   "source": [
    "self is used as the pointer or the reference for the instance variables. "
   ]
  },
  {
   "cell_type": "code",
   "execution_count": null,
   "id": "0b687f33-b415-41cc-b48c-c2a6f5b35ef1",
   "metadata": {},
   "outputs": [],
   "source": [
    "# Q5. What is inheritance? Give an example for each type of inheritance."
   ]
  },
  {
   "cell_type": "code",
   "execution_count": null,
   "id": "c2c53679-2b80-4d43-aee0-06ab2019efe0",
   "metadata": {},
   "outputs": [],
   "source": [
    "Inheritance is the process of transferring the properties of parent class into child class.\n",
    "There are 5 types of inheritance:\n",
    "1. Single level inheritance\n",
    "2. Multi level inheritance\n",
    "3. Hierarchical Inheritance\n",
    "4. Multiple Inheritance\n"
   ]
  },
  {
   "cell_type": "code",
   "execution_count": 9,
   "id": "857ad2c0-fc56-49ff-bf2a-7bea53454ac0",
   "metadata": {},
   "outputs": [
    {
     "name": "stdin",
     "output_type": "stream",
     "text": [
      "Enter the CC of Engine:  2200\n",
      "Enter the Engine BHP:  2.2\n"
     ]
    },
    {
     "name": "stdout",
     "output_type": "stream",
     "text": [
      "Car name: I20\n",
      "Model: 2012\n",
      "\n",
      "Engine Details\n",
      "Engine CC:  2200\n",
      "BHP:  2.2\n"
     ]
    }
   ],
   "source": [
    "# Single level Inheritance\n",
    "\n",
    "class Engine:\n",
    "    def __init__(self):\n",
    "        self.cc=eval(input(\"Enter the CC of Engine: \"))\n",
    "        self.bhp=eval(input(\"Enter the Engine BHP: \"))\n",
    "        \n",
    "    def display(self):\n",
    "        print(\"\\nEngine Details\")\n",
    "        print(\"Engine CC: \",self.cc)\n",
    "        print(\"BHP: \",self.bhp)\n",
    "        \n",
    "class Car(Engine):\n",
    "    def __init__(self,name,model):\n",
    "        self.name=name\n",
    "        self.model=model\n",
    "        super().__init__()\n",
    "        \n",
    "    def display(self):\n",
    "        print(\"Car name: {}\\nModel: {}\".format(self.name,self.model))\n",
    "        super().display()\n",
    "        \n",
    "c=Car('I20',2012)\n",
    "c.display()"
   ]
  },
  {
   "cell_type": "code",
   "execution_count": null,
   "id": "4f4b8c56-9d60-45a6-9c42-dfdff42aed37",
   "metadata": {},
   "outputs": [
    {
     "name": "stdout",
     "output_type": "stream",
     "text": [
      "Grandfather Gold\n",
      "Father's Land\n",
      "Enjoy life\n",
      "my father sahab\n",
      "my father sahab\n"
     ]
    }
   ],
   "source": [
    "# Multi level Inheritance\n",
    "\n",
    "class Grandfather:\n",
    "    def __init__(self):\n",
    "        print(\"Grandfather Gold\")\n",
    "        \n",
    "class Father(Grandfather):\n",
    "    def __init__(self):\n",
    "        super().__init__()\n",
    "        print(\"Father's Land\")\n",
    "        \n",
    "class Child(Father):\n",
    "    def __init__(self):\n",
    "        super().__init__()\n",
    "        print(\"Enjoy life\")\n",
    "        \n",
    "c=Child()"
   ]
  },
  {
   "cell_type": "code",
   "execution_count": 8,
   "id": "8b53a752-b3e6-4aa4-9a70-a54aa3365aea",
   "metadata": {},
   "outputs": [
    {
     "name": "stdin",
     "output_type": "stream",
     "text": [
      "Enter your father's name:  Jalsingh\n",
      "Enter your mother's name:  Suman\n",
      "Enter your father's name:  Sky\n",
      "Enter your mother's name:  Moon\n"
     ]
    },
    {
     "name": "stdout",
     "output_type": "stream",
     "text": [
      "Father name: Jalsingh\n",
      "Mother name: Suman\n",
      "Father name: Sky\n",
      "Mother name: Moon\n"
     ]
    }
   ],
   "source": [
    "# Hierarchical Inheritance \n",
    "\n",
    "class Parent:\n",
    "    def __init__(self):\n",
    "        self.father=input(\"Enter your father's name: \")\n",
    "        self.mother=input(\"Enter your mother's name: \")\n",
    "        \n",
    "    def display(self):\n",
    "        print(\"Father name: {}\\nMother name: {}\".format(self.father,self.mother))\n",
    "        \n",
    "class Child1(Parent):\n",
    "    def __init__(self):\n",
    "        super().__init__()\n",
    "\n",
    "\n",
    "class Child2(Parent):\n",
    "    def __init__(self):\n",
    "        super().__init__()\n",
    "        \n",
    "c1=Child1()\n",
    "c2=Child2()\n",
    "c1.display()\n",
    "c2.display()"
   ]
  },
  {
   "cell_type": "code",
   "execution_count": 9,
   "id": "e3550df9-1bf6-4cad-a501-534b2c86ee33",
   "metadata": {},
   "outputs": [
    {
     "name": "stdout",
     "output_type": "stream",
     "text": [
      "Love from father\n",
      "Love from Mother\n"
     ]
    }
   ],
   "source": [
    "# Multiple Inheritance\n",
    "\n",
    "class Father:\n",
    "    def abc(self):\n",
    "        print(\"Love from father\")\n",
    "        \n",
    "class Mother:\n",
    "    def epic(self):\n",
    "        print(\"Love from Mother\")\n",
    "        \n",
    "class Child(Father,Mother):\n",
    "    pass\n",
    "\n",
    "c=Child()\n",
    "c.abc()\n",
    "c.epic()"
   ]
  },
  {
   "cell_type": "code",
   "execution_count": null,
   "id": "ecf6d491-a324-4d24-9335-b45937d44c67",
   "metadata": {},
   "outputs": [],
   "source": []
  }
 ],
 "metadata": {
  "kernelspec": {
   "display_name": "Python 3 (ipykernel)",
   "language": "python",
   "name": "python3"
  },
  "language_info": {
   "codemirror_mode": {
    "name": "ipython",
    "version": 3
   },
   "file_extension": ".py",
   "mimetype": "text/x-python",
   "name": "python",
   "nbconvert_exporter": "python",
   "pygments_lexer": "ipython3",
   "version": "3.10.6"
  }
 },
 "nbformat": 4,
 "nbformat_minor": 5
}
