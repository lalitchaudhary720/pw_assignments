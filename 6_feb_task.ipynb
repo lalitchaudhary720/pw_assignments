{
 "cells": [
  {
   "cell_type": "markdown",
   "id": "1f3ea853-f019-4217-b5da-40be88cf52bf",
   "metadata": {},
   "source": [
    "# 6 Feb Python Task"
   ]
  },
  {
   "cell_type": "code",
   "execution_count": 3,
   "id": "8bd4de08-53bb-4967-a28e-a945d2c42ca1",
   "metadata": {},
   "outputs": [],
   "source": [
    "# Q1. Create a function which will take a list as an argument and return the product \n",
    "# of all the numbers after creating a flat list.\n",
    "# Use the below-given list as an argument for your function.\n",
    "\n",
    "# list1 = [1,2,3,4, [44,55,66, True], False, (34,56,78,89,34), {1,2,3,3,2,1}, {1:34, \"key2\": [55, 67, 78, 89], 4: (45,\n",
    "# 22, 61, 34)}, [56, 'data science'], 'Machine Learning']\n",
    "\n",
    "# Note: you must extract numeric keys and values of the dictionary also."
   ]
  },
  {
   "cell_type": "code",
   "execution_count": 21,
   "id": "523e0741-1443-4666-9e2a-a095e3802fd6",
   "metadata": {},
   "outputs": [
    {
     "name": "stdout",
     "output_type": "stream",
     "text": [
      "The product of numeric numbers of list is:  4134711838987085478833841242112000\n"
     ]
    }
   ],
   "source": [
    "lst = [1,2,3,4, [44,55,66, True], False, (34,56,78,89,34), {1,2,3,3,2,1}, \n",
    "       {1:34, \"key2\": [55, 67, 78, 89], 4: (45, 22, 61,34)}, [56, 'data science'], 'Machine Learning']\n",
    "\n",
    "def prod(l):\n",
    "    k=[]\n",
    "    for i in l:\n",
    "        if type(i)==int or type(i)==bool or type(i)==str:\n",
    "            k.append(i)\n",
    "        elif type(i)==list or type(i)==set or type(i)==tuple:\n",
    "             k.extend(i)\n",
    "        elif type(i)==dict:\n",
    "            k.extend(i.keys())\n",
    "            for j in i.values():\n",
    "                if type(j)==list or type(j)==tuple or type(j)==set:\n",
    "                    k.extend(j)\n",
    "                else:\n",
    "                    k.append(j)\n",
    "    num_list=[i for i in k if type(i)==int or type(i)==float]\n",
    "    s=1\n",
    "    for x in num_list:\n",
    "        s=s*x\n",
    "    return s\n",
    "    \n",
    "multi=prod(lst)\n",
    "print(\"The product of numeric numbers of list is: \",multi)"
   ]
  },
  {
   "cell_type": "code",
   "execution_count": 19,
   "id": "0e1a0e19-2db4-49e3-b29c-eee0d778af8c",
   "metadata": {},
   "outputs": [],
   "source": [
    "# Q2. Write a python program for encrypting a message sent to you by your friend. The logic of encryption\n",
    "# should be such that, for a the output should be z. For b, the output should be y. For c, the output should\n",
    "# be x respectively. Also, the whitespace should be replaced with a dollar sign. Keep the punctuation\n",
    "# marks unchanged.\n",
    "# Input Sentence: I want to become a Data Scientist.\n",
    "# Encrypt the above input sentence using the program you just created.\n",
    "\n",
    "# Note: Convert the given input sentence into lowercase before encrypting. The final output should be lowercase."
   ]
  },
  {
   "cell_type": "code",
   "execution_count": null,
   "id": "2ec21f79-d064-4bca-95ed-6baa9b962ff0",
   "metadata": {},
   "outputs": [],
   "source": []
  },
  {
   "cell_type": "code",
   "execution_count": 18,
   "id": "53b4d5fc-19b9-4c69-942e-dbe1117b36ab",
   "metadata": {},
   "outputs": [
    {
     "name": "stdout",
     "output_type": "stream",
     "text": [
      "r$dzmg$gl$yvxlnv$z$wzgz$hxrvmgrhg.\n"
     ]
    }
   ],
   "source": [
    "def encrypt(data):\n",
    "    output=''\n",
    "    for i in data:\n",
    "        if i in dic:\n",
    "            output=output+dic[i]\n",
    "        else:\n",
    "            output+=i\n",
    "    print(output)\n",
    "\n",
    "\n",
    "\n",
    "a=[chr(i) for i in range(97,123)]\n",
    "dic=dict(zip(a,a[::-1]))\n",
    "dic.setdefault(' ','$')\n",
    "\n",
    "input='I want to become a Data Scientist.'.lower()\n",
    "    \n",
    "encrypt(input)\n",
    "                  "
   ]
  },
  {
   "cell_type": "code",
   "execution_count": null,
   "id": "63ea38e2-936e-4243-b25c-3d7b8a36b22e",
   "metadata": {},
   "outputs": [],
   "source": []
  }
 ],
 "metadata": {
  "kernelspec": {
   "display_name": "Python 3 (ipykernel)",
   "language": "python",
   "name": "python3"
  },
  "language_info": {
   "codemirror_mode": {
    "name": "ipython",
    "version": 3
   },
   "file_extension": ".py",
   "mimetype": "text/x-python",
   "name": "python",
   "nbconvert_exporter": "python",
   "pygments_lexer": "ipython3",
   "version": "3.10.6"
  }
 },
 "nbformat": 4,
 "nbformat_minor": 5
}
