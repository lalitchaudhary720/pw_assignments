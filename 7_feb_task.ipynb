{
 "cells": [
  {
   "cell_type": "markdown",
   "id": "4e3058e5-0c7f-44ca-ad51-3fc7774b557b",
   "metadata": {},
   "source": [
    "# 7 Feb Task"
   ]
  },
  {
   "cell_type": "code",
   "execution_count": 2,
   "id": "5e1826d6-bba6-463e-8b70-7f7c6a4967a7",
   "metadata": {},
   "outputs": [],
   "source": [
    "# Q1. You are writing code for a company. The requirement of the company is that you create a python\n",
    "# function that will check whether the password entered by the user is correct or not. The function should\n",
    "# take the password as input and return the string “Valid Password” if the entered password follows the\n",
    "# below-given password guidelines else it should return “Invalid Password”.\n",
    "\n",
    "# Note: 1. The Password should contain at least two uppercase letters and at least two lowercase letters.\n",
    "# 2. The Password should contain at least a number and three special characters.\n",
    "# 3. The length of the password should be 10 characters long."
   ]
  },
  {
   "cell_type": "code",
   "execution_count": 20,
   "id": "b9830c2a-1f88-4a30-bf02-83ef952ddd51",
   "metadata": {},
   "outputs": [
    {
     "name": "stdout",
     "output_type": "stream",
     "text": [
      "Valid Password\n"
     ]
    }
   ],
   "source": [
    "chrs= \"\"\"\n",
    "!\"#$%&'()*+,-./:;<=>?@[\\]^_`{|}~\n",
    "\"\"\"\n",
    "def check(pwd):\n",
    "    if len(pwd)>=10:\n",
    "        up,low,num,spch=0,0,0,0\n",
    "        for i in pwd:\n",
    "            if i.isupper():\n",
    "                up+=1\n",
    "            elif i.islower():\n",
    "                low+=1\n",
    "            elif i.isnumeric():\n",
    "                num+=1\n",
    "            elif i in chrs:\n",
    "                spch+=1\n",
    "    \n",
    "        if up>=2 and low>=2 and num>=1 and spch>=3:\n",
    "            print(\"Valid Password\")\n",
    "        else:\n",
    "            print(\"Invalid Password\")\n",
    "    \n",
    "    else:\n",
    "        print(\"Password is too short. Length should be more than 10 characters\")\n",
    "        \n",
    "#pw =input(\"Enter a password: \")\n",
    "pw='LaLit@123#1111**#'\n",
    "check(pw)"
   ]
  },
  {
   "cell_type": "code",
   "execution_count": null,
   "id": "feae27bb-6482-48fe-8b9e-3321564534b1",
   "metadata": {},
   "outputs": [],
   "source": []
  },
  {
   "cell_type": "code",
   "execution_count": 1,
   "id": "98fb692a-99ae-4c0a-97a2-6a4a1e739fc2",
   "metadata": {},
   "outputs": [],
   "source": [
    "# Q2. Solve the below-given questions using at least one of the following:\n",
    "# 1. Lambda function\n",
    "# 2. Filter function\n",
    "# 3. Map function\n",
    "# 4. List Comprehension\n",
    "\n",
    "# Questions\n",
    "# B Check if the string starts with a particular letter\n",
    "# B Check if the string is numeric\n",
    "# B Sort a list of tuples having fruit names and their quantity. [(\"mango\",99),(\"orange\",80), (\"grapes\", 1000)-\n",
    "# B Find the squares of numbers from 1 to 10Y\n",
    "# B Find the cube root of numbers from 1 to 10Y\n",
    "# B Check if a given number is evenY\n",
    "# B Filter odd numbers from the given list.\n",
    "#   [1,2,3,4,5,6,7,8,9,10]\n",
    "# B Sort a list of integers into positive and negative integers lists.\n",
    "#   [1,2,3,4,5,6,-1,-2,-3,-4,-5,0]"
   ]
  },
  {
   "cell_type": "code",
   "execution_count": 11,
   "id": "b21d239d-87bf-439b-b801-166eee0bc203",
   "metadata": {},
   "outputs": [
    {
     "name": "stdin",
     "output_type": "stream",
     "text": [
      "Enter a letter:  h\n"
     ]
    },
    {
     "data": {
      "text/plain": [
       "True"
      ]
     },
     "execution_count": 11,
     "metadata": {},
     "output_type": "execute_result"
    }
   ],
   "source": [
    "# 1. Check if the string starts with a particular letter\n",
    "\n",
    "s=\"Highlight\"\n",
    "l=input(\"Enter a letter: \")\n",
    "\n",
    "r=lambda a,b: True if a[0]==b else False\n",
    "r(s.lower(),l.lower())"
   ]
  },
  {
   "cell_type": "code",
   "execution_count": 16,
   "id": "c9256529-a49b-4e67-93b2-427e3d425997",
   "metadata": {},
   "outputs": [
    {
     "data": {
      "text/plain": [
       "True"
      ]
     },
     "execution_count": 16,
     "metadata": {},
     "output_type": "execute_result"
    }
   ],
   "source": [
    "# 2. Check if the string is numeric\n",
    "\n",
    "a='20'\n",
    "\n",
    "c=lambda i:i.isnumeric()\n",
    "c(a)"
   ]
  },
  {
   "cell_type": "code",
   "execution_count": 39,
   "id": "b1e9944a-f79f-430b-950b-471153d57fd8",
   "metadata": {},
   "outputs": [
    {
     "data": {
      "text/plain": [
       "[('grapes', 10), ('grapes', 1000), ('mango', 99), ('orange', 80)]"
      ]
     },
     "execution_count": 39,
     "metadata": {},
     "output_type": "execute_result"
    }
   ],
   "source": [
    "# 3.Sort a list of tuples having fruit names and their quantity. [(\"mango\",99),(\"orange\",80), (\"grapes\", 1000)]\n",
    "\n",
    "a=[('mango',99),('orange',80), ('grapes', 1000),('grapes', 10)]\n",
    "\n",
    "sorted(a,key=lambda i: (i[0],i[1]))"
   ]
  },
  {
   "cell_type": "code",
   "execution_count": 40,
   "id": "dd2084d5-c076-4722-8748-a65bfc3e4537",
   "metadata": {},
   "outputs": [
    {
     "data": {
      "text/plain": [
       "[1, 4, 9, 16, 25, 36, 49, 64, 81, 100]"
      ]
     },
     "execution_count": 40,
     "metadata": {},
     "output_type": "execute_result"
    }
   ],
   "source": [
    "# 4. Find the squares of numbers from 1 to 10.\n",
    "l=[i for i in range(1,11)]\n",
    "sq=list(map(lambda i:i*i,l))\n",
    "sq"
   ]
  },
  {
   "cell_type": "code",
   "execution_count": 42,
   "id": "60952231-cf46-4a28-9447-9f2eb4785bc0",
   "metadata": {},
   "outputs": [
    {
     "data": {
      "text/plain": [
       "[1.0,\n",
       " 1.2599210498948732,\n",
       " 1.4422495703074083,\n",
       " 1.5874010519681994,\n",
       " 1.7099759466766968,\n",
       " 1.8171205928321397,\n",
       " 1.912931182772389,\n",
       " 2.0,\n",
       " 2.080083823051904,\n",
       " 2.154434690031884]"
      ]
     },
     "execution_count": 42,
     "metadata": {},
     "output_type": "execute_result"
    }
   ],
   "source": [
    "# 5. Find the cube root of numbers from 1 to 10.\n",
    "\n",
    "def crt(a):\n",
    "    b= pow(a,1/3)\n",
    "    return b\n",
    "l=[i for i in range(1,11)]\n",
    "\n",
    "cb=list(map(crt,l))\n",
    "cb"
   ]
  },
  {
   "cell_type": "code",
   "execution_count": 54,
   "id": "ab6a2904-3973-4914-8396-37c9d351742b",
   "metadata": {},
   "outputs": [
    {
     "name": "stdin",
     "output_type": "stream",
     "text": [
      "Enter a number:  8.0\n"
     ]
    },
    {
     "data": {
      "text/plain": [
       "'Even'"
      ]
     },
     "execution_count": 54,
     "metadata": {},
     "output_type": "execute_result"
    }
   ],
   "source": [
    "# 6. Check if a given number is even\n",
    "\n",
    "num=eval(input(\"Enter a number: \"))\n",
    "\n",
    "r=lambda i: 'Even' if i%2==0 else 'Not Even'\n",
    "r(num)"
   ]
  },
  {
   "cell_type": "code",
   "execution_count": 47,
   "id": "8dab6b45-f2a7-4927-979a-6111d7568124",
   "metadata": {},
   "outputs": [
    {
     "name": "stdout",
     "output_type": "stream",
     "text": [
      "The list of odd numbers is:\n",
      " [1, 3, 5, 7, 9]\n"
     ]
    }
   ],
   "source": [
    "# 7. Filter odd numbers from the given list. [1,2,3,4,5,6,7,8,9,10]\n",
    "\n",
    "a=[1,2,3,4,5,6,7,8,9,10]\n",
    "odd=list(filter(lambda i: i%2!=0,a))\n",
    "\n",
    "print(\"The list of odd numbers is:\\n\",odd)"
   ]
  },
  {
   "cell_type": "code",
   "execution_count": 49,
   "id": "8f1b0b39-aa34-466d-8017-269ea02b0e72",
   "metadata": {},
   "outputs": [
    {
     "data": {
      "text/plain": [
       "[6, 5, 4, 3, 2, 1, 0, -1, -2, -3, -4, -5]"
      ]
     },
     "execution_count": 49,
     "metadata": {},
     "output_type": "execute_result"
    }
   ],
   "source": [
    "# 8. Sort a list of integers into positive and negative integers lists. [1,2,3,4,5,6,-1,-2,-3,-4,-5,0]\n",
    "\n",
    "a=[1,2,3,4,5,6,-1,-2,-3,-4,-5,0]\n",
    "sorted(a,reverse=True)"
   ]
  },
  {
   "cell_type": "code",
   "execution_count": null,
   "id": "4c9df5bd-166e-41f1-8987-bc841d8e5e1a",
   "metadata": {},
   "outputs": [],
   "source": []
  }
 ],
 "metadata": {
  "kernelspec": {
   "display_name": "Python 3 (ipykernel)",
   "language": "python",
   "name": "python3"
  },
  "language_info": {
   "codemirror_mode": {
    "name": "ipython",
    "version": 3
   },
   "file_extension": ".py",
   "mimetype": "text/x-python",
   "name": "python",
   "nbconvert_exporter": "python",
   "pygments_lexer": "ipython3",
   "version": "3.10.6"
  }
 },
 "nbformat": 4,
 "nbformat_minor": 5
}
