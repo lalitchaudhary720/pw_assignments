{
 "cells": [
  {
   "cell_type": "markdown",
   "id": "70e47455-f184-4294-b850-10923e56d008",
   "metadata": {},
   "source": [
    "# Number Guess Game"
   ]
  },
  {
   "cell_type": "code",
   "execution_count": 22,
   "id": "e7698d70-4a12-4df3-80a7-5d84e362667d",
   "metadata": {},
   "outputs": [
    {
     "name": "stdin",
     "output_type": "stream",
     "text": [
      "Enter lower bound:  10\n",
      "Enter upper bound:  30\n"
     ]
    },
    {
     "name": "stdout",
     "output_type": "stream",
     "text": [
      "\n",
      "\tYou have 4 attempts to guess the Correct Number, All the best \n",
      "\n"
     ]
    },
    {
     "name": "stdin",
     "output_type": "stream",
     "text": [
      "\n",
      "Guess a number:  12\n"
     ]
    },
    {
     "name": "stdout",
     "output_type": "stream",
     "text": [
      "Your number is too low, Try again\n"
     ]
    },
    {
     "name": "stdin",
     "output_type": "stream",
     "text": [
      "\n",
      "Guess a number:  25\n"
     ]
    },
    {
     "name": "stdout",
     "output_type": "stream",
     "text": [
      "Your number is too high, Try again\n"
     ]
    },
    {
     "name": "stdin",
     "output_type": "stream",
     "text": [
      "\n",
      "Guess a number:  20\n"
     ]
    },
    {
     "name": "stdout",
     "output_type": "stream",
     "text": [
      "Your number is too low, Try again\n"
     ]
    },
    {
     "name": "stdin",
     "output_type": "stream",
     "text": [
      "\n",
      "Guess a number:  18\n"
     ]
    },
    {
     "name": "stdout",
     "output_type": "stream",
     "text": [
      "Your number is too low, Try again\n",
      "\n",
      "\tSorry, You loose the game. Better Luck Next time\n"
     ]
    }
   ],
   "source": [
    "import random as r\n",
    "import math\n",
    "import logging as l\n",
    "\n",
    "l.basicConfig(filename='log.txt',level=l.INFO)\n",
    "l.info(\"Program executed\")\n",
    "\n",
    "while True:\n",
    "    try:\n",
    "        a=int(input(\"Enter lower bound: \"))\n",
    "        b=int(input(\"Enter upper bound: \"))\n",
    "        break\n",
    "    except ValueError as msg:\n",
    "        l.exception(msg)\n",
    "        print(\"Enter a valid interger range\")\n",
    "\n",
    "l.info(\"Program going smoothly\")\n",
    "attempts= int(math.log(b-a+1,2))\n",
    "print()\n",
    "print(\"\\tYou have {} attempts to guess the Correct Number, All the best \\n\".format(attempts))\n",
    "\n",
    "i=1\n",
    "\n",
    "num=r.randint(a,b)\n",
    "while i<=attempts:\n",
    "     \n",
    "    while True:\n",
    "        try:\n",
    "            inp=int(input(\"\\nGuess a number: \"))\n",
    "            break\n",
    "        except ValueError as msg:\n",
    "            l.exception(msg)\n",
    "            print(\"Enter a valid interger number\")\n",
    "    \n",
    "    if num==inp:\n",
    "        print(\"\\n\\tCongratulations!!, You guess the correct number in {} attempt\".format(i))\n",
    "        break\n",
    "    else:\n",
    "        if inp>num:\n",
    "            print(\"Your number is too high, Try again\")\n",
    "        else:\n",
    "            print(\"Your number is too low, Try again\")\n",
    "    \n",
    "    if i==attempts:\n",
    "        print(\"\\n\\tSorry, You loose the game. Better Luck Next time\")\n",
    "         \n",
    "    i+=1\n",
    "\n",
    "l.info(\"Program finished Succesfully\")"
   ]
  },
  {
   "cell_type": "code",
   "execution_count": null,
   "id": "54a71172-5d70-4618-b0b7-903256be9a7c",
   "metadata": {},
   "outputs": [],
   "source": []
  }
 ],
 "metadata": {
  "kernelspec": {
   "display_name": "Python 3 (ipykernel)",
   "language": "python",
   "name": "python3"
  },
  "language_info": {
   "codemirror_mode": {
    "name": "ipython",
    "version": 3
   },
   "file_extension": ".py",
   "mimetype": "text/x-python",
   "name": "python",
   "nbconvert_exporter": "python",
   "pygments_lexer": "ipython3",
   "version": "3.10.6"
  }
 },
 "nbformat": 4,
 "nbformat_minor": 5
}
